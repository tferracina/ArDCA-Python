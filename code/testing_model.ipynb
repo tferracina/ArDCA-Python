{
 "cells": [
  {
   "cell_type": "code",
   "execution_count": 2,
   "id": "93d8e519",
   "metadata": {},
   "outputs": [],
   "source": [
    "# Cell 1: Imports and Setup\n",
    "import numpy as np\n",
    "import torch\n",
    "import matplotlib.pyplot as plt\n",
    "\n",
    "from ardca import *\n",
    "from utils import *\n",
    "\n",
    "# Set parameters\n",
    "msa_path = \"../data/PF00014.fasta.gz\"\n",
    "q = 21\n",
    "seed = 42\n",
    "device = \"cpu\""
   ]
  },
  {
   "cell_type": "code",
   "execution_count": 2,
   "id": "9b32ed5c",
   "metadata": {},
   "outputs": [
    {
     "name": "stdout",
     "output_type": "stream",
     "text": [
      "Testing MSA loading...\n",
      "Alignment shape: (13600, 53)\n",
      "First 5 sequences (indices):\n",
      " [[ 0  2 10  3  4 10  7 13  6 15  2 16 12 20 18  4 15 19 20 20  3 15  6 17\n",
      "   9  9  2 15 16  5 14 20  6  6  2  6  6 12 15 12  7  5 20 16  9  4 12  2\n",
      "   8  5  7  2  0]\n",
      " [11  2 11  4 13 10 18 16  6 17  6  4  1  1 10 12 15  5  1 20 12  1 10 17\n",
      "  15 14  2 10 13  5 18 20 16  6  8  6  6 12 14 12 12  5 10 16  9  1 16  2\n",
      "   4  1 16  2  0]\n",
      " [ 1  2  9 10 10 14  3  8  6 13  2  9  1 16 18 17 15 19 16  5  3 11 16  9\n",
      "   6  4  2 18 14  5 12 20  6  6  2  9  6 12  1 12 12  5  4 16  9  4  8  2\n",
      "   4  3 15  2  0]\n",
      " [ 0  2 11 10 13 18 15  7  6 12  2 12  7  4  1 14 15 19  7  5  3  5  9 12\n",
      "  20 15  2 17 13  5  9 20 15  6  2  4  6 12  1 12 12  5 10 16  4 12  1  2\n",
      "  15 17  1  2 11]\n",
      " [18  2 16 14 13 10 18  8  6 12  6 12  6 12 18 17 15 19 20  1  3 13  4  3\n",
      "  14 15  2  9 13  5 17 20 16  6 16  6  6 17 14 12 12  5 10 17  9  4  4  2\n",
      "   4 16 16  2 15]]\n"
     ]
    }
   ],
   "source": [
    "# Cell 2: Test MSA Loading and Preprocessing\n",
    "print(\"Testing MSA loading...\")\n",
    "alignment = read_fasta_alignment(msa_path, max_gap_fraction=1.0)\n",
    "print(\"Alignment shape:\", alignment.shape)\n",
    "print(\"First 5 sequences (indices):\\n\", alignment[:5])"
   ]
  },
  {
   "cell_type": "code",
   "execution_count": 3,
   "id": "77963dae",
   "metadata": {},
   "outputs": [
    {
     "name": "stdout",
     "output_type": "stream",
     "text": [
      "Testing sequence weights...\n",
      "Weights shape: (13600,)\n",
      "Effective sample size: 4248.818911011662\n",
      "First 5 weights: [0.03448276 0.25       1.         0.09090909 0.5       ]\n"
     ]
    }
   ],
   "source": [
    "# Cell 3: Test Sequence Weights\n",
    "print(\"Testing sequence weights...\")\n",
    "weights, M_eff = compute_weights_blockwise(alignment, theta=0.8, gap_idx=0)\n",
    "print(\"Weights shape:\", weights.shape)\n",
    "print(\"Effective sample size:\", M_eff)\n",
    "print(\"First 5 weights:\", weights[:5])"
   ]
  },
  {
   "cell_type": "code",
   "execution_count": 4,
   "id": "fafffcfe",
   "metadata": {},
   "outputs": [
    {
     "name": "stdout",
     "output_type": "stream",
     "text": [
      "Testing one-hot encoding...\n",
      "One-hot shape: torch.Size([13600, 53, 21])\n",
      "First sequence one-hot (sum over aa): tensor([1., 1., 1., 1., 1., 1., 1., 1., 1., 1., 1., 1., 1., 1., 1., 1., 1., 1.,\n",
      "        1., 1., 1., 1., 1., 1., 1., 1., 1., 1., 1., 1., 1., 1., 1., 1., 1., 1.,\n",
      "        1., 1., 1., 1., 1., 1., 1., 1., 1., 1., 1., 1., 1., 1., 1., 1., 1.])\n",
      "0.0 1.0\n",
      "720800.0\n",
      "tensor([ 0,  2, 10,  3,  4, 10,  7, 13,  6, 15,  2, 16, 12, 20, 18,  4, 15, 19,\n",
      "        20, 20,  3, 15,  6, 17,  9,  9,  2, 15, 16,  5, 14, 20,  6,  6,  2,  6,\n",
      "         6, 12, 15, 12,  7,  5, 20, 16,  9,  4, 12,  2,  8,  5,  7,  2,  0])\n",
      "tensor(True)\n"
     ]
    }
   ],
   "source": [
    "# Cell 4: Test One-hot Encoding\n",
    "print(\"Testing one-hot encoding...\")\n",
    "X_oh = encode_sequence(alignment, q=q, device=device)\n",
    "print(\"One-hot shape:\", X_oh.shape)\n",
    "print(\"First sequence one-hot (sum over aa):\", X_oh[0].sum(dim=-1))\n",
    "print(X_oh.min().item(), X_oh.max().item())  # should be 0.0 and 1.0\n",
    "print(X_oh.sum().item())                     # should equal M * L, 720800\n",
    "\n",
    "# Recover indices from one-hot\n",
    "decoded_idx = X_oh[0].argmax(dim=-1)  # shape (L,)\n",
    "print(decoded_idx)\n",
    "\n",
    "# Compare to your original alignment encoding (if you have it as ints)\n",
    "print((decoded_idx == alignment[0]).all())"
   ]
  },
  {
   "cell_type": "code",
   "execution_count": 5,
   "id": "17e1231b",
   "metadata": {},
   "outputs": [
    {
     "name": "stdout",
     "output_type": "stream",
     "text": [
      "Testing empirical single-site and pairwise frequencies...\n",
      "Single-site freq shape: (53, 21)\n",
      "Pairwise freq shape: (53, 53, 21, 21)\n"
     ]
    }
   ],
   "source": [
    "# Cell 5: Test Empirical Frequencies and Correlations\n",
    "print(\"Testing empirical single-site and pairwise frequencies...\")\n",
    "f1 = compute_empirical_f1(alignment, weights, M_eff, q)\n",
    "f2 = compute_empirical_f2(alignment, weights, M_eff, q)\n",
    "print(\"Single-site freq shape:\", f1.shape)\n",
    "print(\"Pairwise freq shape:\", f2.shape)\n"
   ]
  },
  {
   "cell_type": "code",
   "execution_count": 6,
   "id": "6d865ff2",
   "metadata": {},
   "outputs": [
    {
     "name": "stdout",
     "output_type": "stream",
     "text": [
      "[1. 1. 1. 1. 1. 1. 1. 1. 1. 1. 1. 1. 1. 1. 1. 1. 1. 1. 1. 1. 1. 1. 1. 1.\n",
      " 1. 1. 1. 1. 1. 1. 1. 1. 1. 1. 1. 1. 1. 1. 1. 1. 1. 1. 1. 1. 1. 1. 1. 1.\n",
      " 1. 1. 1. 1. 1.]\n",
      "0.9999999999999929\n",
      "0.9999999999999922\n"
     ]
    }
   ],
   "source": [
    "print(f1.sum(axis=1))   # should be ~1.0 for every position\n",
    "print(f2[0,1].sum())    # should be ~1.0\n",
    "print(f2[3,3].sum())    # diagonal sites should also sum to ~1.0\n"
   ]
  },
  {
   "cell_type": "code",
   "execution_count": 7,
   "id": "d8261507",
   "metadata": {},
   "outputs": [
    {
     "name": "stdout",
     "output_type": "stream",
     "text": [
      "Testing ArDCA model initialization...\n",
      "h_pos mean/std: 0.003602410899475217 0.09941249340772629\n",
      "J mean/std: -3.446079426794313e-05 0.07002554088830948\n",
      "J norm: 77.93736267089844\n"
     ]
    }
   ],
   "source": [
    "# Cell 6: Model Initialization\n",
    "print(\"Testing ArDCA model initialization...\")\n",
    "L = alignment.shape[1]\n",
    "model = ArDCA(L=L, q=q, lambda_h=1e-6, lambda_J=1e-6)\n",
    "model.init_parameters(torch.tensor(alignment, dtype=torch.long))\n",
    "print(\"h_pos mean/std:\", model.h_pos.mean().item(), model.h_pos.std().item())\n",
    "print(\"J mean/std:\", model.J.mean().item(), model.J.std().item())\n",
    "print(\"J norm:\", model.J.norm().item())"
   ]
  },
  {
   "cell_type": "code",
   "execution_count": 8,
   "id": "481d1baa",
   "metadata": {},
   "outputs": [
    {
     "name": "stdout",
     "output_type": "stream",
     "text": [
      "Testing model forward pass...\n",
      "Logits shape: torch.Size([13600, 53, 21])\n",
      "Logits[0,0]: tensor([-0.0393,  0.0868, -0.0798, -0.2547, -0.0693, -0.0451,  0.0646,  0.0838,\n",
      "         0.1139, -0.1354,  0.1305, -0.0974,  0.0206, -0.0318,  0.0539,  0.1182,\n",
      "         0.1083, -0.1338,  0.1209,  0.0032, -0.0806],\n",
      "       grad_fn=<SelectBackward0>)\n"
     ]
    }
   ],
   "source": [
    "# Cell 7: Model Forward Pass\n",
    "print(\"Testing model forward pass...\")\n",
    "logits = model.compute_ar_logits(X_oh)\n",
    "print(\"Logits shape:\", logits.shape)\n",
    "print(\"Logits[0,0]:\", logits[0,0])"
   ]
  },
  {
   "cell_type": "code",
   "execution_count": 9,
   "id": "d3426ebc",
   "metadata": {},
   "outputs": [
    {
     "name": "stdout",
     "output_type": "stream",
     "text": [
      "Testing model loss calculation...\n",
      "Loss: 166.7855987548828\n",
      "Loss info: {'nll': tensor(166.7795), 'regJ': tensor(6074.3945), 'regH': tensor(11.0042), 'total_loss': tensor(166.7856)}\n"
     ]
    }
   ],
   "source": [
    "# Cell 8: Model Loss Calculation\n",
    "print(\"Testing model loss calculation...\")\n",
    "X_idx = torch.tensor(alignment, dtype=torch.long)\n",
    "W = torch.tensor(weights, dtype=torch.float32)\n",
    "loss, info = model.loss(X_oh, X_idx, W)\n",
    "print(\"Loss:\", loss.item())\n",
    "print(\"Loss info:\", info)"
   ]
  },
  {
   "cell_type": "code",
   "execution_count": 13,
   "id": "9f710be5",
   "metadata": {},
   "outputs": [
    {
     "name": "stdout",
     "output_type": "stream",
     "text": [
      "Testing model training for 5 epochs...\n",
      "Epoch 0: Train Loss=89.920174, Train NLL=89.310516\n",
      "         Val Loss=91.595482, Val NLL=90.985825, Perplexity=1.7909\n",
      "Epoch 10: Train Loss=59.101341, Train NLL=54.475594\n",
      "         Val Loss=89.205994, Val NLL=84.580246, Perplexity=1.7189\n",
      "Epoch 19: Train Loss=58.735142, Train NLL=53.952911\n",
      "         Val Loss=88.951157, Val NLL=84.168922, Perplexity=1.7144\n",
      "Final J norm: 218.60626220703125\n"
     ]
    }
   ],
   "source": [
    "# Cell 9: Model Training (Short Run)\n",
    "print(\"Testing model training for 5 epochs...\")\n",
    "model_params = ModelParams(\n",
    "    lambda_h=1e-6,\n",
    "    lambda_J=1e-4,\n",
    "    optimizer=\"lbfgs\",\n",
    "    max_iters=20,\n",
    "    seed=seed,\n",
    "    val_frac=0.1\n",
    ")\n",
    "msa_data = MSAData(\n",
    "    seqs=alignment,\n",
    "    weights=weights,\n",
    "    M_eff=M_eff,\n",
    "    L=L,\n",
    "    q=q,\n",
    "    identity_tresh=0.8\n",
    ")\n",
    "trained_model, history = train_ardca(model, msa_data, model_params, device=device)\n",
    "print(\"Final J norm:\", trained_model.J.norm().item())"
   ]
  },
  {
   "cell_type": "code",
   "execution_count": 14,
   "id": "df5cea8b",
   "metadata": {},
   "outputs": [
    {
     "data": {
      "image/png": "[encoded data removed]",
      "text/plain": [
       "<Figure size 640x480 with 1 Axes>"
      ]
     },
     "metadata": {},
     "output_type": "display_data"
    }
   ],
   "source": [
    "# Cell 10: Training History Plot\n",
    "plt.plot(history['train_loss'], label='Train Loss')\n",
    "plt.xlabel(\"Epoch\")\n",
    "plt.ylabel(\"Loss\")\n",
    "plt.title(\"Training Loss Curve\")\n",
    "plt.legend()\n",
    "plt.show()"
   ]
  },
  {
   "cell_type": "code",
   "execution_count": 15,
   "id": "164933e9",
   "metadata": {},
   "outputs": [
    {
     "name": "stdout",
     "output_type": "stream",
     "text": [
      "Testing sequence sampling...\n",
      "Sampled sequences:\n",
      " [[ 0  2  1 10 13 11 12 13  6 16  2  9 14  1  9 12 20 19  5 20  3 20 17 16\n",
      "  15 17  2 16  8  5 19 20  6  6  2  4  6 12 14 12 15  5 16 17 14 10 11  2\n",
      "  14 19 17  2  0]\n",
      " [ 8  2  9 16  8 18  3 16  6 13  2  5  6  1  8  9 15 19  1  5 12 15  8  4\n",
      "  14  9  2  8 13  5  8 20  6  6  2  6  6 12  4 12 12  5 13 17 15  9  7  2\n",
      "   4  3 17  2  1]\n",
      " [18  2  7 10 18 13  1 13  6 13  2 15  6 10  5 16 15 20 20 20 12 16 17  1\n",
      "   6 14  2  4  8  5 10 20  6  6  2 10  6 12  1 12 12  5  3 17 13  4  4  2\n",
      "   9 14 17  2  4]\n",
      " [10  2 16 10 13  1  3 13  6 14  2 12  6  6 11 20 14 20 20 20 12 13 17  8\n",
      "   4 16  2  4  8  5 10 20  6  6  2  6  6 12 15 12 15  5 18 17 13 15  9  2\n",
      "  10 14 17  2 14]\n",
      " [ 8  2  3 15 13  8  4  3  6 17  2 15  1  5  4 10 15 20  6  5 12 16  1 17\n",
      "   6 15  2  4 14  5 19 20  6  6  2  6  6 12  4 12 16  5  6 16 10 10  3  2\n",
      "  14 11 17  2  0]]\n"
     ]
    }
   ],
   "source": [
    "# Cell 11: Sample Sequences from Model\n",
    "print(\"Testing sequence sampling...\")\n",
    "samples = trained_model.sample_sequences(n_samples=5, device=device, seed=seed)\n",
    "print(\"Sampled sequences:\\n\", samples.numpy())"
   ]
  }
 ],
 "metadata": {
  "kernelspec": {
   "display_name": "arvenv (3.13.2)",
   "language": "python",
   "name": "python3"
  },
  "language_info": {
   "codemirror_mode": {
    "name": "ipython",
    "version": 3
   },
   "file_extension": ".py",
   "mimetype": "text/x-python",
   "name": "python",
   "nbconvert_exporter": "python",
   "pygments_lexer": "ipython3",
   "version": "3.13.2"
  }
 },
 "nbformat": 4,
 "nbformat_minor": 5
}
