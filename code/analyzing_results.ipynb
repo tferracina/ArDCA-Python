{
 "cells": [
  {
   "cell_type": "code",
   "execution_count": null,
   "id": "7fae7d57",
   "metadata": {},
   "outputs": [],
   "source": [
    "import matplotlib.pyplot as plt\n",
    "import numpy as np\n",
    "import seaborn as sns\n",
    "\n",
    "\n",
    "from utils import *\n",
    "from ardca import *\n",
    "from classes import *"
   ]
  },
  {
   "cell_type": "code",
   "execution_count": null,
   "id": "7e24b8bd",
   "metadata": {},
   "outputs": [],
   "source": [
    "N_SEQ = 500\n",
    "msa_path = \"../data/PF00014.fasta.gz\"\n",
    "model_path = \"models/ardca_PF00014_v3.pt\""
   ]
  },
  {
   "cell_type": "code",
   "execution_count": null,
   "id": "cce8d31f",
   "metadata": {},
   "outputs": [],
   "source": [
    "alignment = read_fasta_alignment(msa_path, max_gap_fraction=1.0)\n",
    "model = load_ardca_model(model_path)"
   ]
  },
  {
   "cell_type": "markdown",
   "id": "827184ba",
   "metadata": {},
   "source": [
    "# PCA on MSA Sequences vs Model Generated Sequences"
   ]
  },
  {
   "cell_type": "code",
   "execution_count": null,
   "id": "da3cf7c8",
   "metadata": {},
   "outputs": [],
   "source": [
    "# perfom pca on MSA\n",
    "alignment2d, _ = pca_from_onehot(alignment)\n",
    "\n",
    "# sample N_SEQ from the PCA\n",
    "random_indices = np.random.choice(alignment2d.shape[0], size=N_SEQ, replace=False)\n",
    "random_msa_samples = alignment2d[random_indices]"
   ]
  },
  {
   "cell_type": "code",
   "execution_count": null,
   "id": "de9b62bd",
   "metadata": {},
   "outputs": [],
   "source": [
    "fig, ax = plt.subplots(figsize=(8,6))\n",
    "h = ax.hist2d(\n",
    "    random_msa_samples[:, 0],\n",
    "    random_msa_samples[:, 1],\n",
    "    bins=50,\n",
    "    density=True,\n",
    ")\n",
    "\n",
    "ax.set(\n",
    "    title=f\"PCA on MSA with {N_SEQ} samples\",\n",
    "    xlabel=\"principal component 1\",\n",
    "    ylabel=\"principal component 2\",\n",
    ")\n",
    "\n",
    "plt.colorbar(h[3], ax=ax)\n",
    "plt.savefig(\"out/PCA_DATA\")"
   ]
  },
  {
   "cell_type": "code",
   "execution_count": null,
   "id": "aee419ab",
   "metadata": {},
   "outputs": [],
   "source": [
    "# sample sequences from model\n",
    "generated_seqs = model.sample_sequences(n_samples=N_SEQ, seed=42).numpy()"
   ]
  },
  {
   "cell_type": "code",
   "execution_count": null,
   "id": "94db87bb",
   "metadata": {},
   "outputs": [],
   "source": [
    "# perform pca on the model\n",
    "pca_generated, _ = pca_from_onehot(generated_seqs)"
   ]
  },
  {
   "cell_type": "code",
   "execution_count": null,
   "id": "84dcd4e0",
   "metadata": {},
   "outputs": [],
   "source": [
    "fig, ax = plt.subplots(figsize=(8,6))\n",
    "h = ax.hist2d(\n",
    "    pca_generated[:, 0],\n",
    "    pca_generated[:, 1],\n",
    "    bins=50,\n",
    "    density=True,\n",
    ")\n",
    "\n",
    "ax.set(\n",
    "    title=f\"PCA on Generated Sequences with {N_SEQ} samples\",\n",
    "    xlabel=\"principal component 1\",\n",
    "    ylabel=\"principal component 2\",\n",
    ")\n",
    "\n",
    "plt.colorbar(h[3], ax=ax)\n",
    "plt.savefig(\"out/PCA_MODEL\")"
   ]
  },
  {
   "cell_type": "markdown",
   "id": "491d42db",
   "metadata": {},
   "source": [
    "# UMAP"
   ]
  },
  {
   "cell_type": "code",
   "execution_count": null,
   "id": "42130b5b",
   "metadata": {},
   "outputs": [],
   "source": [
    "# perform umap on alignment\n",
    "alignment_umap, _ = umap_from_onehot(alignment, n_components=2)\n",
    "plt.figure(figsize=(7, 6))\n",
    "plt.scatter(alignment_umap[:, 0], alignment_umap[:, 1], s=10, alpha=0.8, color=\"steelblue\")\n",
    "\n",
    "plt.xlabel(\"UMAP-1\")\n",
    "plt.ylabel(\"UMAP-2\")\n",
    "plt.title(\"UMAP from MSA\")\n",
    "plt.tight_layout()\n",
    "plt.savefig(\"out/UMAP_DATA\")"
   ]
  },
  {
   "cell_type": "code",
   "execution_count": null,
   "id": "afabeeb6",
   "metadata": {},
   "outputs": [],
   "source": [
    "# perform umap on model\n",
    "generated_umap, _ = umap_from_onehot(generated_seqs, n_components=2)\n",
    "\n",
    "plt.figure(figsize=(7, 6))\n",
    "plt.scatter(generated_umap[:, 0], generated_umap[:, 1], s=10, alpha=0.8, color=\"steelblue\")\n",
    "\n",
    "plt.xlabel(\"UMAP-1\")\n",
    "plt.ylabel(\"UMAP-2\")\n",
    "plt.title(\"UMAP from Model\")\n",
    "plt.tight_layout()\n",
    "plt.savefig(\"out/UMAP_MODEL\")"
   ]
  },
  {
   "cell_type": "markdown",
   "id": "c003b295",
   "metadata": {},
   "source": [
    "# Hamming Distance Matrix"
   ]
  },
  {
   "cell_type": "code",
   "execution_count": null,
   "id": "6a8f50c0",
   "metadata": {},
   "outputs": [],
   "source": [
    "from sklearn.metrics import pairwise_distances\n",
    "import seaborn as sns\n",
    "\n",
    "N_SEQ = 200\n",
    "\n",
    "random_indices = np.random.choice(alignment.shape[0], size=N_SEQ, replace=False)\n",
    "msa_samples = alignment[random_indices]\n",
    "\n",
    "X = one_hot_for_pca(msa_samples)\n",
    "dist_matrix = pairwise_distances(X, metric=\"hamming\")\n",
    "\n",
    "plt.figure(figsize=(12, 10))\n",
    "cluster_grid = sns.clustermap(\n",
    "    dist_matrix,\n",
    "    cmap=\"viridis\",\n",
    "    figsize=(12, 10),\n",
    "    method=\"average\",  # Use average linkage for clustering\n",
    "    xticklabels=False, # Hide x-axis labels\n",
    "    yticklabels=False, # Hide y-axis labels\n",
    "    cbar_kws={\"label\": \"Hamming Distance\"}\n",
    ")\n",
    "plt.title(f\"Hamming Distance on {N_SEQ} Data Samples\")\n",
    "plt.savefig(\"out/HD_DATA\")"
   ]
  },
  {
   "cell_type": "code",
   "execution_count": null,
   "id": "138d0a36",
   "metadata": {},
   "outputs": [],
   "source": [
    "generated_seqs = model.sample_sequences(n_samples=N_SEQ, seed=42).numpy()\n",
    "Y = one_hot_for_pca(generated_seqs)\n",
    "dist_matrix = pairwise_distances(Y, metric=\"hamming\")\n",
    "\n",
    "plt.figure(figsize=(12, 10))\n",
    "cluster_grid = sns.clustermap(\n",
    "    dist_matrix,\n",
    "    cmap=\"viridis\",\n",
    "    figsize=(12, 10),\n",
    "    method=\"average\",  # Use average linkage for clustering\n",
    "    xticklabels=False, # Hide x-axis labels\n",
    "    yticklabels=False, # Hide y-axis labels\n",
    "    cbar_kws={\"label\": \"Hamming Distance\"}\n",
    ")\n",
    "plt.title(f\"Hamming Distance on {N_SEQ} Model Samples\")\n",
    "plt.savefig(\"out/HD_MODEL\")"
   ]
  },
  {
   "cell_type": "markdown",
   "id": "00ec13ea",
   "metadata": {},
   "source": [
    "# One-, Two-, & Three-Site Connected Correlation"
   ]
  },
  {
   "cell_type": "code",
   "execution_count": null,
   "id": "6812e3ae",
   "metadata": {},
   "outputs": [],
   "source": [
    "generated_seqs = model.sample_sequences(n_samples=N_SEQ, seed=42).numpy().astype(np.int16)"
   ]
  },
  {
   "cell_type": "code",
   "execution_count": null,
   "id": "c14a0f2a",
   "metadata": {},
   "outputs": [],
   "source": [
    "def comprehensive_correlation_analysis(data_sequences: np.ndarray,\n",
    "                                     model_sequences: np.ndarray,\n",
    "                                     data_weights: np.ndarray,\n",
    "                                     data_M_eff: float,\n",
    "                                     model_weights: np.ndarray,\n",
    "                                     model_M_eff: float,\n",
    "                                     q: int = 21,\n",
    "                                     max_triplets: Optional[int] = 500,\n",
    "                                     figsize: Tuple[int, int] = (15, 5)) -> Dict:\n",
    "    \"\"\"\n",
    "    Perform comprehensive correlation analysis and create comparison plots.\n",
    "    \n",
    "    Args:\n",
    "        data_sequences: Real MSA sequences of shape (M_data, L)\n",
    "        model_sequences: Model-generated sequences of shape (M_model, L)\n",
    "        q: Number of amino acid types\n",
    "        max_triplets: Maximum triplets for 3-site correlations\n",
    "        figsize: Figure size for the combined plot\n",
    "        \n",
    "    Returns:\n",
    "        Dictionary containing all computed correlations and statistics\n",
    "    \"\"\"\n",
    "    print(\"Computing single-site frequencies...\")\n",
    "    data_f1 = compute_empirical_f1(data_sequences, data_weights, data_M_eff, q)\n",
    "    model_f1 = compute_empirical_f1(model_sequences, model_weights, model_M_eff, q)\n",
    "    \n",
    "    print(\"Computing two-site correlations...\")\n",
    "    data_c2 = compute_two_site_correlations(data_sequences, data_weights, data_M_eff, q)\n",
    "    model_c2 = compute_two_site_correlations(model_sequences, model_weights, model_M_eff, q)\n",
    "    \n",
    "    print(\"Computing three-site correlations...\")\n",
    "    data_c3, triplet_indices = compute_three_site_correlations(data_sequences, data_weights, data_M_eff, q, max_triplets)\n",
    "    model_c3, _ = compute_three_site_correlations(model_sequences, model_weights, model_M_eff, q, max_triplets)\n",
    "    \n",
    "    \n",
    "    # Create comparison plots\n",
    "    fig, axes = plt.subplots(1, 3, figsize=figsize)\n",
    "    \n",
    "    # Single-site frequencies\n",
    "    data_f1_flat = data_f1.flatten()\n",
    "    model_f1_flat = model_f1.flatten()\n",
    "    nonzero_mask = data_f1_flat > 1e-6  # Only non-zero frequencies\n",
    "    \n",
    "    corr_f1, _ = pearsonr(data_f1_flat[nonzero_mask], model_f1_flat[nonzero_mask])\n",
    "    slope_f1 = np.polyfit(data_f1_flat[nonzero_mask], model_f1_flat[nonzero_mask], 1)[0]\n",
    "    \n",
    "    axes[0].scatter(data_f1_flat[nonzero_mask], model_f1_flat[nonzero_mask], \n",
    "                   alpha=0.6, s=2, color='blue')\n",
    "    axes[0].plot([0, 1], [0, 1], 'k--', alpha=0.8, linewidth=1)\n",
    "    axes[0].set_xlabel('Data')\n",
    "    axes[0].set_ylabel('Sample')\n",
    "    axes[0].set_title('$F_i$')\n",
    "    axes[0].text(0.05, 0.95, f'arDCA, Pearson: {corr_f1:.1f}\\nSlope: {slope_f1:.2f}', \n",
    "                transform=axes[0].transAxes, verticalalignment='top', fontsize=10,\n",
    "                bbox=dict(boxstyle='round', facecolor='white', alpha=0.8))\n",
    "    axes[0].grid(True, alpha=0.3)\n",
    "    \n",
    "    # Two-site correlations\n",
    "    data_c2_flat = extract_nonzero_correlations(data_c2)\n",
    "    model_c2_flat = extract_nonzero_correlations(model_c2)\n",
    "    min_len = min(len(data_c2_flat), len(model_c2_flat))\n",
    "    \n",
    "    corr_c2, _ = pearsonr(data_c2_flat[:min_len], model_c2_flat[:min_len])\n",
    "    slope_c2 = np.polyfit(data_c2_flat[:min_len], model_c2_flat[:min_len], 1)[0]\n",
    "    \n",
    "    axes[1].scatter(data_c2_flat[:min_len], model_c2_flat[:min_len], \n",
    "                   alpha=0.4, s=1, color='blue')\n",
    "    min_val = min(np.min(data_c2_flat[:min_len]), np.min(model_c2_flat[:min_len]))\n",
    "    max_val = max(np.max(data_c2_flat[:min_len]), np.max(model_c2_flat[:min_len]))\n",
    "    axes[1].plot([min_val, max_val], [min_val, max_val], 'k--', alpha=0.8, linewidth=1)\n",
    "    axes[1].set_xlabel('Data')\n",
    "    axes[1].set_ylabel('Sample')\n",
    "    axes[1].set_title('$C_{ij}$')\n",
    "    axes[1].text(0.05, 0.95, f'arDCA, Pearson: {corr_c2:.1f}\\nSlope: {slope_c2:.2f}', \n",
    "                transform=axes[1].transAxes, verticalalignment='top', fontsize=10,\n",
    "                bbox=dict(boxstyle='round', facecolor='white', alpha=0.8))\n",
    "    axes[1].grid(True, alpha=0.3)\n",
    "    \n",
    "    # Three-site correlations\n",
    "    data_c3_flat = extract_nonzero_correlations(data_c3)\n",
    "    model_c3_flat = extract_nonzero_correlations(model_c3)\n",
    "    min_len = min(len(data_c3_flat), len(model_c3_flat))\n",
    "    \n",
    "    corr_c3, _ = pearsonr(data_c3_flat[:min_len], model_c3_flat[:min_len])\n",
    "    slope_c3 = np.polyfit(data_c3_flat[:min_len], model_c3_flat[:min_len], 1)[0]\n",
    "    \n",
    "    axes[2].scatter(data_c3_flat[:min_len], model_c3_flat[:min_len], \n",
    "                   alpha=0.4, s=1, color='blue')\n",
    "    min_val = min(np.min(data_c3_flat[:min_len]), np.min(model_c3_flat[:min_len]))\n",
    "    max_val = max(np.max(data_c3_flat[:min_len]), np.max(model_c3_flat[:min_len]))\n",
    "    axes[2].plot([min_val, max_val], [min_val, max_val], 'k--', alpha=0.8, linewidth=1)\n",
    "    axes[2].set_xlabel('Data')\n",
    "    axes[2].set_ylabel('Sample')\n",
    "    axes[2].set_title('$C_{ijk}$')\n",
    "    axes[2].text(0.05, 0.95, f'arDCA, Pearson: {corr_c3:.1f}\\nSlope: {slope_c3:.2f}', \n",
    "                transform=axes[2].transAxes, verticalalignment='top', fontsize=10,\n",
    "                bbox=dict(boxstyle='round', facecolor='white', alpha=0.8))\n",
    "    axes[2].grid(True, alpha=0.3)\n",
    "    \n",
    "    plt.tight_layout()\n",
    "    plt.show()\n",
    "    \n",
    "    # Return results dictionary\n",
    "    results = {\n",
    "        'single_site_freqs': {\n",
    "            'data': data_f1,\n",
    "            'model': model_f1,\n",
    "            'pearson': corr_f1,\n",
    "            'slope': slope_f1\n",
    "        },\n",
    "        'two_site_corrs': {\n",
    "            'data': data_c2,\n",
    "            'model': model_c2,\n",
    "            'pearson': corr_c2,\n",
    "            'slope': slope_c2\n",
    "        },\n",
    "        'three_site_corrs': {\n",
    "            'data': data_c3,\n",
    "            'model': model_c3,\n",
    "            'pearson': corr_c3,\n",
    "            'slope': slope_c3,\n",
    "            'triplet_indices': triplet_indices\n",
    "        },\n",
    "        'figure': fig\n",
    "    }\n",
    "    \n",
    "    return results"
   ]
  },
  {
   "cell_type": "code",
   "execution_count": null,
   "id": "06b0d4de",
   "metadata": {},
   "outputs": [],
   "source": [
    "W, M_eff = compute_weights_blockwise(X_idx=alignment, theta=0.8, gap_idx=0)\n",
    "\n",
    "model_weights = np.ones(len(generated_seqs))\n",
    "model_M_eff = float(len(generated_seqs))"
   ]
  },
  {
   "cell_type": "code",
   "execution_count": null,
   "id": "ff005063",
   "metadata": {},
   "outputs": [],
   "source": [
    "# Run comprehensive analysis\n",
    "results = comprehensive_correlation_analysis(\n",
    "    random_msa_samples, \n",
    "    generated_seqs,\n",
    "    W,\n",
    "    M_eff,\n",
    "    model_weights,\n",
    "    model_M_eff,\n",
    "    q=q,\n",
    "    max_triplets=200\n",
    ")\n",
    "\n",
    "# Print summary statistics\n",
    "print(f\"Single-site correlation: {results['single_site_freqs']['pearson']:.3f}\")\n",
    "print(f\"Two-site correlation: {results['two_site_corrs']['pearson']:.3f}\")\n",
    "print(f\"Three-site correlation: {results['three_site_corrs']['pearson']:.3f}\")\n",
    "\n",
    "results"
   ]
  }
 ],
 "metadata": {
  "kernelspec": {
   "display_name": "arvenv",
   "language": "python",
   "name": "arvenv"
  },
  "language_info": {
   "codemirror_mode": {
    "name": "ipython",
    "version": 3
   },
   "file_extension": ".py",
   "mimetype": "text/x-python",
   "name": "python",
   "nbconvert_exporter": "python",
   "pygments_lexer": "ipython3",
   "version": "3.13.2"
  }
 },
 "nbformat": 4,
 "nbformat_minor": 5
}
